{
 "cells": [
  {
   "cell_type": "markdown",
   "id": "566b672b",
   "metadata": {},
   "source": [
    "# Data Science and Stem Salaries (Part One)"
   ]
  },
  {
   "cell_type": "markdown",
   "id": "b7460864",
   "metadata": {},
   "source": [
    "### This dataset contains information regarding salaries in technology from June 2017 to August 2021. "
   ]
  },
  {
   "cell_type": "markdown",
   "id": "3afcbf61",
   "metadata": {},
   "source": [
    "### We will be looking at the following questions: \n",
    "### 1. What is the highest paying tech job? \n",
    "### 2. What are the highest paying companies? \n",
    "### 3. What companies pay the highest salaries? \n",
    "### 4. Is there a correlation between education and salary? \n",
    "### 5. Is there a correlation between years at a company and salary? \n",
    "### 6. Is there a correlation between years of experience and salary? \n",
    "### 7. Is there a correlation between location and salary? \n",
    "### 8. Where are the majority of tech jobs located? \n",
    "### 9. Do men or women earn higher salaries? "
   ]
  },
  {
   "cell_type": "code",
   "execution_count": 26,
   "id": "d2b91856",
   "metadata": {},
   "outputs": [],
   "source": [
    "# Importing libraries and dataset\n",
    "import pandas as pd\n",
    "import numpy as np\n",
    "import os\n",
    "import seaborn as sns\n",
    "import matplotlib.pyplot as plt"
   ]
  },
  {
   "cell_type": "code",
   "execution_count": 27,
   "id": "72670df2",
   "metadata": {},
   "outputs": [],
   "source": [
    "df_sal = pd.read_csv(r'/Users/melanie/Desktop/Data Science and STEM Salaries/Data/Levels_Fyi_Salary_Data.csv')"
   ]
  },
  {
   "cell_type": "markdown",
   "id": "aa3a90d3",
   "metadata": {},
   "source": [
    "# Cleaning the Data"
   ]
  },
  {
   "cell_type": "code",
   "execution_count": 28,
   "id": "e1c0dd0d",
   "metadata": {},
   "outputs": [
    {
     "data": {
      "text/html": [
       "<div>\n",
       "<style scoped>\n",
       "    .dataframe tbody tr th:only-of-type {\n",
       "        vertical-align: middle;\n",
       "    }\n",
       "\n",
       "    .dataframe tbody tr th {\n",
       "        vertical-align: top;\n",
       "    }\n",
       "\n",
       "    .dataframe thead th {\n",
       "        text-align: right;\n",
       "    }\n",
       "</style>\n",
       "<table border=\"1\" class=\"dataframe\">\n",
       "  <thead>\n",
       "    <tr style=\"text-align: right;\">\n",
       "      <th></th>\n",
       "      <th>timestamp</th>\n",
       "      <th>company</th>\n",
       "      <th>level</th>\n",
       "      <th>title</th>\n",
       "      <th>totalyearlycompensation</th>\n",
       "      <th>location</th>\n",
       "      <th>yearsofexperience</th>\n",
       "      <th>yearsatcompany</th>\n",
       "      <th>tag</th>\n",
       "      <th>basesalary</th>\n",
       "      <th>...</th>\n",
       "      <th>Doctorate_Degree</th>\n",
       "      <th>Highschool</th>\n",
       "      <th>Some_College</th>\n",
       "      <th>Race_Asian</th>\n",
       "      <th>Race_White</th>\n",
       "      <th>Race_Two_Or_More</th>\n",
       "      <th>Race_Black</th>\n",
       "      <th>Race_Hispanic</th>\n",
       "      <th>Race</th>\n",
       "      <th>Education</th>\n",
       "    </tr>\n",
       "  </thead>\n",
       "  <tbody>\n",
       "    <tr>\n",
       "      <th>0</th>\n",
       "      <td>17-Jun</td>\n",
       "      <td>Oracle</td>\n",
       "      <td>L3</td>\n",
       "      <td>Product Manager</td>\n",
       "      <td>127000</td>\n",
       "      <td>Redwood City, CA</td>\n",
       "      <td>1.5</td>\n",
       "      <td>1.5</td>\n",
       "      <td>NaN</td>\n",
       "      <td>107000</td>\n",
       "      <td>...</td>\n",
       "      <td>0</td>\n",
       "      <td>0</td>\n",
       "      <td>0</td>\n",
       "      <td>0</td>\n",
       "      <td>0</td>\n",
       "      <td>0</td>\n",
       "      <td>0</td>\n",
       "      <td>0</td>\n",
       "      <td>NaN</td>\n",
       "      <td>NaN</td>\n",
       "    </tr>\n",
       "    <tr>\n",
       "      <th>1</th>\n",
       "      <td>17-Jun</td>\n",
       "      <td>eBay</td>\n",
       "      <td>SE 2</td>\n",
       "      <td>Software Engineer</td>\n",
       "      <td>100000</td>\n",
       "      <td>San Francisco, CA</td>\n",
       "      <td>5.0</td>\n",
       "      <td>3.0</td>\n",
       "      <td>NaN</td>\n",
       "      <td>0</td>\n",
       "      <td>...</td>\n",
       "      <td>0</td>\n",
       "      <td>0</td>\n",
       "      <td>0</td>\n",
       "      <td>0</td>\n",
       "      <td>0</td>\n",
       "      <td>0</td>\n",
       "      <td>0</td>\n",
       "      <td>0</td>\n",
       "      <td>NaN</td>\n",
       "      <td>NaN</td>\n",
       "    </tr>\n",
       "    <tr>\n",
       "      <th>2</th>\n",
       "      <td>17-Jun</td>\n",
       "      <td>Amazon</td>\n",
       "      <td>L7</td>\n",
       "      <td>Product Manager</td>\n",
       "      <td>310000</td>\n",
       "      <td>Seattle, WA</td>\n",
       "      <td>8.0</td>\n",
       "      <td>0.0</td>\n",
       "      <td>NaN</td>\n",
       "      <td>155000</td>\n",
       "      <td>...</td>\n",
       "      <td>0</td>\n",
       "      <td>0</td>\n",
       "      <td>0</td>\n",
       "      <td>0</td>\n",
       "      <td>0</td>\n",
       "      <td>0</td>\n",
       "      <td>0</td>\n",
       "      <td>0</td>\n",
       "      <td>NaN</td>\n",
       "      <td>NaN</td>\n",
       "    </tr>\n",
       "    <tr>\n",
       "      <th>3</th>\n",
       "      <td>17-Jun</td>\n",
       "      <td>Apple</td>\n",
       "      <td>M1</td>\n",
       "      <td>Software Engineering Manager</td>\n",
       "      <td>372000</td>\n",
       "      <td>Sunnyvale, CA</td>\n",
       "      <td>7.0</td>\n",
       "      <td>5.0</td>\n",
       "      <td>NaN</td>\n",
       "      <td>157000</td>\n",
       "      <td>...</td>\n",
       "      <td>0</td>\n",
       "      <td>0</td>\n",
       "      <td>0</td>\n",
       "      <td>0</td>\n",
       "      <td>0</td>\n",
       "      <td>0</td>\n",
       "      <td>0</td>\n",
       "      <td>0</td>\n",
       "      <td>NaN</td>\n",
       "      <td>NaN</td>\n",
       "    </tr>\n",
       "    <tr>\n",
       "      <th>4</th>\n",
       "      <td>17-Jun</td>\n",
       "      <td>Microsoft</td>\n",
       "      <td>60</td>\n",
       "      <td>Software Engineer</td>\n",
       "      <td>157000</td>\n",
       "      <td>Mountain View, CA</td>\n",
       "      <td>5.0</td>\n",
       "      <td>3.0</td>\n",
       "      <td>NaN</td>\n",
       "      <td>0</td>\n",
       "      <td>...</td>\n",
       "      <td>0</td>\n",
       "      <td>0</td>\n",
       "      <td>0</td>\n",
       "      <td>0</td>\n",
       "      <td>0</td>\n",
       "      <td>0</td>\n",
       "      <td>0</td>\n",
       "      <td>0</td>\n",
       "      <td>NaN</td>\n",
       "      <td>NaN</td>\n",
       "    </tr>\n",
       "    <tr>\n",
       "      <th>...</th>\n",
       "      <td>...</td>\n",
       "      <td>...</td>\n",
       "      <td>...</td>\n",
       "      <td>...</td>\n",
       "      <td>...</td>\n",
       "      <td>...</td>\n",
       "      <td>...</td>\n",
       "      <td>...</td>\n",
       "      <td>...</td>\n",
       "      <td>...</td>\n",
       "      <td>...</td>\n",
       "      <td>...</td>\n",
       "      <td>...</td>\n",
       "      <td>...</td>\n",
       "      <td>...</td>\n",
       "      <td>...</td>\n",
       "      <td>...</td>\n",
       "      <td>...</td>\n",
       "      <td>...</td>\n",
       "      <td>...</td>\n",
       "      <td>...</td>\n",
       "    </tr>\n",
       "    <tr>\n",
       "      <th>62637</th>\n",
       "      <td>18-Sep</td>\n",
       "      <td>Google</td>\n",
       "      <td>T4</td>\n",
       "      <td>Software Engineer</td>\n",
       "      <td>327000</td>\n",
       "      <td>Seattle, WA</td>\n",
       "      <td>10.0</td>\n",
       "      <td>1.0</td>\n",
       "      <td>Distributed Systems (Back-End)</td>\n",
       "      <td>155000</td>\n",
       "      <td>...</td>\n",
       "      <td>0</td>\n",
       "      <td>0</td>\n",
       "      <td>0</td>\n",
       "      <td>0</td>\n",
       "      <td>0</td>\n",
       "      <td>0</td>\n",
       "      <td>0</td>\n",
       "      <td>0</td>\n",
       "      <td>NaN</td>\n",
       "      <td>NaN</td>\n",
       "    </tr>\n",
       "    <tr>\n",
       "      <th>62638</th>\n",
       "      <td>18-Sep</td>\n",
       "      <td>Microsoft</td>\n",
       "      <td>62</td>\n",
       "      <td>Software Engineer</td>\n",
       "      <td>237000</td>\n",
       "      <td>Redmond, WA</td>\n",
       "      <td>2.0</td>\n",
       "      <td>2.0</td>\n",
       "      <td>Full Stack</td>\n",
       "      <td>146900</td>\n",
       "      <td>...</td>\n",
       "      <td>0</td>\n",
       "      <td>0</td>\n",
       "      <td>0</td>\n",
       "      <td>0</td>\n",
       "      <td>0</td>\n",
       "      <td>0</td>\n",
       "      <td>0</td>\n",
       "      <td>0</td>\n",
       "      <td>NaN</td>\n",
       "      <td>NaN</td>\n",
       "    </tr>\n",
       "    <tr>\n",
       "      <th>62639</th>\n",
       "      <td>18-Sep</td>\n",
       "      <td>MSFT</td>\n",
       "      <td>63</td>\n",
       "      <td>Software Engineer</td>\n",
       "      <td>220000</td>\n",
       "      <td>Seattle, WA</td>\n",
       "      <td>14.0</td>\n",
       "      <td>12.0</td>\n",
       "      <td>Full Stack</td>\n",
       "      <td>157000</td>\n",
       "      <td>...</td>\n",
       "      <td>0</td>\n",
       "      <td>0</td>\n",
       "      <td>0</td>\n",
       "      <td>0</td>\n",
       "      <td>0</td>\n",
       "      <td>0</td>\n",
       "      <td>0</td>\n",
       "      <td>0</td>\n",
       "      <td>NaN</td>\n",
       "      <td>NaN</td>\n",
       "    </tr>\n",
       "    <tr>\n",
       "      <th>62640</th>\n",
       "      <td>18-Sep</td>\n",
       "      <td>Salesforce</td>\n",
       "      <td>Lead MTS</td>\n",
       "      <td>Software Engineer</td>\n",
       "      <td>280000</td>\n",
       "      <td>San Francisco, CA</td>\n",
       "      <td>8.0</td>\n",
       "      <td>4.0</td>\n",
       "      <td>iOS</td>\n",
       "      <td>194688</td>\n",
       "      <td>...</td>\n",
       "      <td>0</td>\n",
       "      <td>0</td>\n",
       "      <td>0</td>\n",
       "      <td>0</td>\n",
       "      <td>0</td>\n",
       "      <td>0</td>\n",
       "      <td>0</td>\n",
       "      <td>0</td>\n",
       "      <td>NaN</td>\n",
       "      <td>NaN</td>\n",
       "    </tr>\n",
       "    <tr>\n",
       "      <th>62641</th>\n",
       "      <td>19-Jan</td>\n",
       "      <td>apple</td>\n",
       "      <td>ict3</td>\n",
       "      <td>Software Engineer</td>\n",
       "      <td>200000</td>\n",
       "      <td>Sunnyvale, CA</td>\n",
       "      <td>0.0</td>\n",
       "      <td>0.0</td>\n",
       "      <td>ML / AI</td>\n",
       "      <td>155000</td>\n",
       "      <td>...</td>\n",
       "      <td>0</td>\n",
       "      <td>0</td>\n",
       "      <td>0</td>\n",
       "      <td>0</td>\n",
       "      <td>0</td>\n",
       "      <td>0</td>\n",
       "      <td>0</td>\n",
       "      <td>0</td>\n",
       "      <td>NaN</td>\n",
       "      <td>NaN</td>\n",
       "    </tr>\n",
       "  </tbody>\n",
       "</table>\n",
       "<p>62642 rows × 29 columns</p>\n",
       "</div>"
      ],
      "text/plain": [
       "      timestamp     company     level                         title  \\\n",
       "0        17-Jun      Oracle        L3               Product Manager   \n",
       "1        17-Jun        eBay      SE 2             Software Engineer   \n",
       "2        17-Jun      Amazon        L7               Product Manager   \n",
       "3        17-Jun       Apple        M1  Software Engineering Manager   \n",
       "4        17-Jun   Microsoft        60             Software Engineer   \n",
       "...         ...         ...       ...                           ...   \n",
       "62637    18-Sep      Google        T4             Software Engineer   \n",
       "62638    18-Sep   Microsoft        62             Software Engineer   \n",
       "62639    18-Sep        MSFT        63             Software Engineer   \n",
       "62640    18-Sep  Salesforce  Lead MTS             Software Engineer   \n",
       "62641    19-Jan       apple      ict3             Software Engineer   \n",
       "\n",
       "       totalyearlycompensation           location  yearsofexperience  \\\n",
       "0                       127000   Redwood City, CA                1.5   \n",
       "1                       100000  San Francisco, CA                5.0   \n",
       "2                       310000        Seattle, WA                8.0   \n",
       "3                       372000      Sunnyvale, CA                7.0   \n",
       "4                       157000  Mountain View, CA                5.0   \n",
       "...                        ...                ...                ...   \n",
       "62637                   327000        Seattle, WA               10.0   \n",
       "62638                   237000        Redmond, WA                2.0   \n",
       "62639                   220000        Seattle, WA               14.0   \n",
       "62640                   280000  San Francisco, CA                8.0   \n",
       "62641                   200000      Sunnyvale, CA                0.0   \n",
       "\n",
       "       yearsatcompany                             tag  basesalary  ...  \\\n",
       "0                 1.5                             NaN      107000  ...   \n",
       "1                 3.0                             NaN           0  ...   \n",
       "2                 0.0                             NaN      155000  ...   \n",
       "3                 5.0                             NaN      157000  ...   \n",
       "4                 3.0                             NaN           0  ...   \n",
       "...               ...                             ...         ...  ...   \n",
       "62637             1.0  Distributed Systems (Back-End)      155000  ...   \n",
       "62638             2.0                      Full Stack      146900  ...   \n",
       "62639            12.0                      Full Stack      157000  ...   \n",
       "62640             4.0                             iOS      194688  ...   \n",
       "62641             0.0                         ML / AI      155000  ...   \n",
       "\n",
       "       Doctorate_Degree  Highschool Some_College Race_Asian  Race_White  \\\n",
       "0                     0           0            0          0           0   \n",
       "1                     0           0            0          0           0   \n",
       "2                     0           0            0          0           0   \n",
       "3                     0           0            0          0           0   \n",
       "4                     0           0            0          0           0   \n",
       "...                 ...         ...          ...        ...         ...   \n",
       "62637                 0           0            0          0           0   \n",
       "62638                 0           0            0          0           0   \n",
       "62639                 0           0            0          0           0   \n",
       "62640                 0           0            0          0           0   \n",
       "62641                 0           0            0          0           0   \n",
       "\n",
       "       Race_Two_Or_More  Race_Black  Race_Hispanic  Race  Education  \n",
       "0                     0           0              0   NaN        NaN  \n",
       "1                     0           0              0   NaN        NaN  \n",
       "2                     0           0              0   NaN        NaN  \n",
       "3                     0           0              0   NaN        NaN  \n",
       "4                     0           0              0   NaN        NaN  \n",
       "...                 ...         ...            ...   ...        ...  \n",
       "62637                 0           0              0   NaN        NaN  \n",
       "62638                 0           0              0   NaN        NaN  \n",
       "62639                 0           0              0   NaN        NaN  \n",
       "62640                 0           0              0   NaN        NaN  \n",
       "62641                 0           0              0   NaN        NaN  \n",
       "\n",
       "[62642 rows x 29 columns]"
      ]
     },
     "execution_count": 28,
     "metadata": {},
     "output_type": "execute_result"
    }
   ],
   "source": [
    "# Data Checks \n",
    "df_sal"
   ]
  },
  {
   "cell_type": "code",
   "execution_count": 29,
   "id": "bb8fc559",
   "metadata": {},
   "outputs": [
    {
     "data": {
      "text/plain": [
       "(62642, 29)"
      ]
     },
     "execution_count": 29,
     "metadata": {},
     "output_type": "execute_result"
    }
   ],
   "source": [
    "df_sal.shape"
   ]
  },
  {
   "cell_type": "code",
   "execution_count": 30,
   "id": "18af8f90",
   "metadata": {},
   "outputs": [
    {
     "name": "stdout",
     "output_type": "stream",
     "text": [
      "<class 'pandas.core.frame.DataFrame'>\n",
      "RangeIndex: 62642 entries, 0 to 62641\n",
      "Data columns (total 29 columns):\n",
      " #   Column                   Non-Null Count  Dtype  \n",
      "---  ------                   --------------  -----  \n",
      " 0   timestamp                62642 non-null  object \n",
      " 1   company                  62637 non-null  object \n",
      " 2   level                    62523 non-null  object \n",
      " 3   title                    62642 non-null  object \n",
      " 4   totalyearlycompensation  62642 non-null  int64  \n",
      " 5   location                 62642 non-null  object \n",
      " 6   yearsofexperience        62642 non-null  float64\n",
      " 7   yearsatcompany           62642 non-null  float64\n",
      " 8   tag                      61788 non-null  object \n",
      " 9   basesalary               62642 non-null  int64  \n",
      " 10  stockgrantvalue          62642 non-null  float64\n",
      " 11  bonus                    62642 non-null  float64\n",
      " 12  gender                   43102 non-null  object \n",
      " 13  otherdetails             40137 non-null  object \n",
      " 14  cityid                   62642 non-null  int64  \n",
      " 15  dmaid                    62640 non-null  float64\n",
      " 16  rowNumber                62642 non-null  int64  \n",
      " 17  Masters_Degree           62642 non-null  int64  \n",
      " 18  Bachelors_Degree         62642 non-null  int64  \n",
      " 19  Doctorate_Degree         62642 non-null  int64  \n",
      " 20  Highschool               62642 non-null  int64  \n",
      " 21  Some_College             62642 non-null  int64  \n",
      " 22  Race_Asian               62642 non-null  int64  \n",
      " 23  Race_White               62642 non-null  int64  \n",
      " 24  Race_Two_Or_More         62642 non-null  int64  \n",
      " 25  Race_Black               62642 non-null  int64  \n",
      " 26  Race_Hispanic            62642 non-null  int64  \n",
      " 27  Race                     22427 non-null  object \n",
      " 28  Education                30370 non-null  object \n",
      "dtypes: float64(5), int64(14), object(10)\n",
      "memory usage: 13.9+ MB\n"
     ]
    }
   ],
   "source": [
    "df_sal.info()"
   ]
  },
  {
   "cell_type": "code",
   "execution_count": 31,
   "id": "83ac0790",
   "metadata": {},
   "outputs": [],
   "source": [
    "df_sal['cityid'] = df_sal['cityid'].astype('str')"
   ]
  },
  {
   "cell_type": "code",
   "execution_count": 32,
   "id": "027c5e9d",
   "metadata": {},
   "outputs": [
    {
     "data": {
      "text/plain": [
       "dtype('O')"
      ]
     },
     "execution_count": 32,
     "metadata": {},
     "output_type": "execute_result"
    }
   ],
   "source": [
    "df_sal['cityid'].dtype"
   ]
  },
  {
   "cell_type": "code",
   "execution_count": 33,
   "id": "0c1e7193",
   "metadata": {},
   "outputs": [],
   "source": [
    "# Dropping columns that are not needed\n",
    "df_sal = df_sal.drop(columns = ['level', 'tag', 'stockgrantvalue', 'otherdetails', 'dmaid', 'rowNumber', 'Race', 'Education'])"
   ]
  },
  {
   "cell_type": "code",
   "execution_count": 34,
   "id": "d16f8afc",
   "metadata": {},
   "outputs": [
    {
     "data": {
      "text/html": [
       "<div>\n",
       "<style scoped>\n",
       "    .dataframe tbody tr th:only-of-type {\n",
       "        vertical-align: middle;\n",
       "    }\n",
       "\n",
       "    .dataframe tbody tr th {\n",
       "        vertical-align: top;\n",
       "    }\n",
       "\n",
       "    .dataframe thead th {\n",
       "        text-align: right;\n",
       "    }\n",
       "</style>\n",
       "<table border=\"1\" class=\"dataframe\">\n",
       "  <thead>\n",
       "    <tr style=\"text-align: right;\">\n",
       "      <th></th>\n",
       "      <th>timestamp</th>\n",
       "      <th>company</th>\n",
       "      <th>title</th>\n",
       "      <th>totalyearlycompensation</th>\n",
       "      <th>location</th>\n",
       "      <th>yearsofexperience</th>\n",
       "      <th>yearsatcompany</th>\n",
       "      <th>basesalary</th>\n",
       "      <th>bonus</th>\n",
       "      <th>gender</th>\n",
       "      <th>...</th>\n",
       "      <th>Masters_Degree</th>\n",
       "      <th>Bachelors_Degree</th>\n",
       "      <th>Doctorate_Degree</th>\n",
       "      <th>Highschool</th>\n",
       "      <th>Some_College</th>\n",
       "      <th>Race_Asian</th>\n",
       "      <th>Race_White</th>\n",
       "      <th>Race_Two_Or_More</th>\n",
       "      <th>Race_Black</th>\n",
       "      <th>Race_Hispanic</th>\n",
       "    </tr>\n",
       "  </thead>\n",
       "  <tbody>\n",
       "    <tr>\n",
       "      <th>0</th>\n",
       "      <td>17-Jun</td>\n",
       "      <td>Oracle</td>\n",
       "      <td>Product Manager</td>\n",
       "      <td>127000</td>\n",
       "      <td>Redwood City, CA</td>\n",
       "      <td>1.5</td>\n",
       "      <td>1.5</td>\n",
       "      <td>107000</td>\n",
       "      <td>10000.0</td>\n",
       "      <td>NaN</td>\n",
       "      <td>...</td>\n",
       "      <td>0</td>\n",
       "      <td>0</td>\n",
       "      <td>0</td>\n",
       "      <td>0</td>\n",
       "      <td>0</td>\n",
       "      <td>0</td>\n",
       "      <td>0</td>\n",
       "      <td>0</td>\n",
       "      <td>0</td>\n",
       "      <td>0</td>\n",
       "    </tr>\n",
       "    <tr>\n",
       "      <th>1</th>\n",
       "      <td>17-Jun</td>\n",
       "      <td>eBay</td>\n",
       "      <td>Software Engineer</td>\n",
       "      <td>100000</td>\n",
       "      <td>San Francisco, CA</td>\n",
       "      <td>5.0</td>\n",
       "      <td>3.0</td>\n",
       "      <td>0</td>\n",
       "      <td>0.0</td>\n",
       "      <td>NaN</td>\n",
       "      <td>...</td>\n",
       "      <td>0</td>\n",
       "      <td>0</td>\n",
       "      <td>0</td>\n",
       "      <td>0</td>\n",
       "      <td>0</td>\n",
       "      <td>0</td>\n",
       "      <td>0</td>\n",
       "      <td>0</td>\n",
       "      <td>0</td>\n",
       "      <td>0</td>\n",
       "    </tr>\n",
       "    <tr>\n",
       "      <th>2</th>\n",
       "      <td>17-Jun</td>\n",
       "      <td>Amazon</td>\n",
       "      <td>Product Manager</td>\n",
       "      <td>310000</td>\n",
       "      <td>Seattle, WA</td>\n",
       "      <td>8.0</td>\n",
       "      <td>0.0</td>\n",
       "      <td>155000</td>\n",
       "      <td>0.0</td>\n",
       "      <td>NaN</td>\n",
       "      <td>...</td>\n",
       "      <td>0</td>\n",
       "      <td>0</td>\n",
       "      <td>0</td>\n",
       "      <td>0</td>\n",
       "      <td>0</td>\n",
       "      <td>0</td>\n",
       "      <td>0</td>\n",
       "      <td>0</td>\n",
       "      <td>0</td>\n",
       "      <td>0</td>\n",
       "    </tr>\n",
       "    <tr>\n",
       "      <th>3</th>\n",
       "      <td>17-Jun</td>\n",
       "      <td>Apple</td>\n",
       "      <td>Software Engineering Manager</td>\n",
       "      <td>372000</td>\n",
       "      <td>Sunnyvale, CA</td>\n",
       "      <td>7.0</td>\n",
       "      <td>5.0</td>\n",
       "      <td>157000</td>\n",
       "      <td>35000.0</td>\n",
       "      <td>NaN</td>\n",
       "      <td>...</td>\n",
       "      <td>0</td>\n",
       "      <td>0</td>\n",
       "      <td>0</td>\n",
       "      <td>0</td>\n",
       "      <td>0</td>\n",
       "      <td>0</td>\n",
       "      <td>0</td>\n",
       "      <td>0</td>\n",
       "      <td>0</td>\n",
       "      <td>0</td>\n",
       "    </tr>\n",
       "    <tr>\n",
       "      <th>4</th>\n",
       "      <td>17-Jun</td>\n",
       "      <td>Microsoft</td>\n",
       "      <td>Software Engineer</td>\n",
       "      <td>157000</td>\n",
       "      <td>Mountain View, CA</td>\n",
       "      <td>5.0</td>\n",
       "      <td>3.0</td>\n",
       "      <td>0</td>\n",
       "      <td>0.0</td>\n",
       "      <td>NaN</td>\n",
       "      <td>...</td>\n",
       "      <td>0</td>\n",
       "      <td>0</td>\n",
       "      <td>0</td>\n",
       "      <td>0</td>\n",
       "      <td>0</td>\n",
       "      <td>0</td>\n",
       "      <td>0</td>\n",
       "      <td>0</td>\n",
       "      <td>0</td>\n",
       "      <td>0</td>\n",
       "    </tr>\n",
       "  </tbody>\n",
       "</table>\n",
       "<p>5 rows × 21 columns</p>\n",
       "</div>"
      ],
      "text/plain": [
       "  timestamp    company                         title  totalyearlycompensation  \\\n",
       "0    17-Jun     Oracle               Product Manager                   127000   \n",
       "1    17-Jun       eBay             Software Engineer                   100000   \n",
       "2    17-Jun     Amazon               Product Manager                   310000   \n",
       "3    17-Jun      Apple  Software Engineering Manager                   372000   \n",
       "4    17-Jun  Microsoft             Software Engineer                   157000   \n",
       "\n",
       "            location  yearsofexperience  yearsatcompany  basesalary    bonus  \\\n",
       "0   Redwood City, CA                1.5             1.5      107000  10000.0   \n",
       "1  San Francisco, CA                5.0             3.0           0      0.0   \n",
       "2        Seattle, WA                8.0             0.0      155000      0.0   \n",
       "3      Sunnyvale, CA                7.0             5.0      157000  35000.0   \n",
       "4  Mountain View, CA                5.0             3.0           0      0.0   \n",
       "\n",
       "  gender  ... Masters_Degree  Bachelors_Degree  Doctorate_Degree  Highschool  \\\n",
       "0    NaN  ...              0                 0                 0           0   \n",
       "1    NaN  ...              0                 0                 0           0   \n",
       "2    NaN  ...              0                 0                 0           0   \n",
       "3    NaN  ...              0                 0                 0           0   \n",
       "4    NaN  ...              0                 0                 0           0   \n",
       "\n",
       "   Some_College  Race_Asian  Race_White  Race_Two_Or_More  Race_Black  \\\n",
       "0             0           0           0                 0           0   \n",
       "1             0           0           0                 0           0   \n",
       "2             0           0           0                 0           0   \n",
       "3             0           0           0                 0           0   \n",
       "4             0           0           0                 0           0   \n",
       "\n",
       "   Race_Hispanic  \n",
       "0              0  \n",
       "1              0  \n",
       "2              0  \n",
       "3              0  \n",
       "4              0  \n",
       "\n",
       "[5 rows x 21 columns]"
      ]
     },
     "execution_count": 34,
     "metadata": {},
     "output_type": "execute_result"
    }
   ],
   "source": [
    "df_sal.head()"
   ]
  },
  {
   "cell_type": "code",
   "execution_count": 35,
   "id": "f33bc23b",
   "metadata": {},
   "outputs": [
    {
     "data": {
      "text/plain": [
       "(62642, 21)"
      ]
     },
     "execution_count": 35,
     "metadata": {},
     "output_type": "execute_result"
    }
   ],
   "source": [
    "df_sal.shape"
   ]
  },
  {
   "cell_type": "code",
   "execution_count": 36,
   "id": "9bb29bf5",
   "metadata": {},
   "outputs": [],
   "source": [
    "# Renaming columns \n",
    "df_sal = df_sal.rename(columns = {'timestamp' : 'date',  'totalyearlycompensation' : 'total_yearly_compensation', \n",
    "                         'yearsofexperience' : 'years_of_experience', 'yearsatcompany' : 'years_at_company', \n",
    "                         'basesalary' : 'base_salary', 'cityid': 'city_id', 'Highschool' : 'High_School'})"
   ]
  },
  {
   "cell_type": "code",
   "execution_count": 37,
   "id": "9b526889",
   "metadata": {},
   "outputs": [
    {
     "data": {
      "text/plain": [
       "Software Engineer               41231\n",
       "Product Manager                  4673\n",
       "Software Engineering Manager     3569\n",
       "Data Scientist                   2578\n",
       "Hardware Engineer                2200\n",
       "Product Designer                 1516\n",
       "Technical Program Manager        1381\n",
       "Solution Architect               1157\n",
       "Management Consultant             976\n",
       "Business Analyst                  885\n",
       "Marketing                         710\n",
       "Mechanical Engineer               490\n",
       "Sales                             461\n",
       "Recruiter                         451\n",
       "Human Resources                   364\n",
       "Name: title, dtype: int64"
      ]
     },
     "execution_count": 37,
     "metadata": {},
     "output_type": "execute_result"
    }
   ],
   "source": [
    "# Looking at job titles\n",
    "df_sal.title.value_counts()"
   ]
  },
  {
   "cell_type": "code",
   "execution_count": 38,
   "id": "58cb7563",
   "metadata": {},
   "outputs": [
    {
     "name": "stdout",
     "output_type": "stream",
     "text": [
      "(62642, 21)\n"
     ]
    },
    {
     "data": {
      "text/plain": [
       "date                             0\n",
       "company                          5\n",
       "title                            0\n",
       "total_yearly_compensation        0\n",
       "location                         0\n",
       "years_of_experience              0\n",
       "years_at_company                 0\n",
       "base_salary                      0\n",
       "bonus                            0\n",
       "gender                       19540\n",
       "city_id                          0\n",
       "Masters_Degree                   0\n",
       "Bachelors_Degree                 0\n",
       "Doctorate_Degree                 0\n",
       "High_School                      0\n",
       "Some_College                     0\n",
       "Race_Asian                       0\n",
       "Race_White                       0\n",
       "Race_Two_Or_More                 0\n",
       "Race_Black                       0\n",
       "Race_Hispanic                    0\n",
       "dtype: int64"
      ]
     },
     "execution_count": 38,
     "metadata": {},
     "output_type": "execute_result"
    }
   ],
   "source": [
    "# Looking at number of nulls\n",
    "print(df_sal.shape)\n",
    "df_sal.isnull().sum()"
   ]
  },
  {
   "cell_type": "code",
   "execution_count": 39,
   "id": "6d742dc1",
   "metadata": {},
   "outputs": [],
   "source": [
    "# Filling Null values with \"Unknown\"\n",
    "df_sal = df_sal.fillna({'company' : 'Unknown', 'gender' : 'Unknown'})"
   ]
  },
  {
   "cell_type": "code",
   "execution_count": 40,
   "id": "fdf68f05",
   "metadata": {},
   "outputs": [
    {
     "name": "stdout",
     "output_type": "stream",
     "text": [
      "(62642, 21)\n"
     ]
    },
    {
     "data": {
      "text/plain": [
       "date                         0\n",
       "company                      0\n",
       "title                        0\n",
       "total_yearly_compensation    0\n",
       "location                     0\n",
       "years_of_experience          0\n",
       "years_at_company             0\n",
       "base_salary                  0\n",
       "bonus                        0\n",
       "gender                       0\n",
       "city_id                      0\n",
       "Masters_Degree               0\n",
       "Bachelors_Degree             0\n",
       "Doctorate_Degree             0\n",
       "High_School                  0\n",
       "Some_College                 0\n",
       "Race_Asian                   0\n",
       "Race_White                   0\n",
       "Race_Two_Or_More             0\n",
       "Race_Black                   0\n",
       "Race_Hispanic                0\n",
       "dtype: int64"
      ]
     },
     "execution_count": 40,
     "metadata": {},
     "output_type": "execute_result"
    }
   ],
   "source": [
    "# Double checking that the NA values were filled\n",
    "print(df_sal.shape)\n",
    "df_sal.isnull().sum()"
   ]
  },
  {
   "cell_type": "code",
   "execution_count": 41,
   "id": "9ec5e2e7",
   "metadata": {},
   "outputs": [],
   "source": [
    "# Checking for duplicates\n",
    "df_dups = df_sal[df_sal.duplicated()]"
   ]
  },
  {
   "cell_type": "code",
   "execution_count": 42,
   "id": "09e9cfc6",
   "metadata": {},
   "outputs": [
    {
     "data": {
      "text/html": [
       "<div>\n",
       "<style scoped>\n",
       "    .dataframe tbody tr th:only-of-type {\n",
       "        vertical-align: middle;\n",
       "    }\n",
       "\n",
       "    .dataframe tbody tr th {\n",
       "        vertical-align: top;\n",
       "    }\n",
       "\n",
       "    .dataframe thead th {\n",
       "        text-align: right;\n",
       "    }\n",
       "</style>\n",
       "<table border=\"1\" class=\"dataframe\">\n",
       "  <thead>\n",
       "    <tr style=\"text-align: right;\">\n",
       "      <th></th>\n",
       "      <th>date</th>\n",
       "      <th>company</th>\n",
       "      <th>title</th>\n",
       "      <th>total_yearly_compensation</th>\n",
       "      <th>location</th>\n",
       "      <th>years_of_experience</th>\n",
       "      <th>years_at_company</th>\n",
       "      <th>base_salary</th>\n",
       "      <th>bonus</th>\n",
       "      <th>gender</th>\n",
       "      <th>...</th>\n",
       "      <th>Masters_Degree</th>\n",
       "      <th>Bachelors_Degree</th>\n",
       "      <th>Doctorate_Degree</th>\n",
       "      <th>High_School</th>\n",
       "      <th>Some_College</th>\n",
       "      <th>Race_Asian</th>\n",
       "      <th>Race_White</th>\n",
       "      <th>Race_Two_Or_More</th>\n",
       "      <th>Race_Black</th>\n",
       "      <th>Race_Hispanic</th>\n",
       "    </tr>\n",
       "  </thead>\n",
       "  <tbody>\n",
       "    <tr>\n",
       "      <th>450</th>\n",
       "      <td>18-Jun</td>\n",
       "      <td>Intuit</td>\n",
       "      <td>Software Engineer</td>\n",
       "      <td>422000</td>\n",
       "      <td>Mountain View, CA</td>\n",
       "      <td>6.0</td>\n",
       "      <td>3.0</td>\n",
       "      <td>203000</td>\n",
       "      <td>47000.0</td>\n",
       "      <td>Male</td>\n",
       "      <td>...</td>\n",
       "      <td>0</td>\n",
       "      <td>0</td>\n",
       "      <td>0</td>\n",
       "      <td>0</td>\n",
       "      <td>0</td>\n",
       "      <td>0</td>\n",
       "      <td>0</td>\n",
       "      <td>0</td>\n",
       "      <td>0</td>\n",
       "      <td>0</td>\n",
       "    </tr>\n",
       "    <tr>\n",
       "      <th>538</th>\n",
       "      <td>18-Jun</td>\n",
       "      <td>Workday</td>\n",
       "      <td>Software Engineer</td>\n",
       "      <td>135000</td>\n",
       "      <td>Pleasanton, CA</td>\n",
       "      <td>2.0</td>\n",
       "      <td>2.0</td>\n",
       "      <td>113000</td>\n",
       "      <td>5000.0</td>\n",
       "      <td>Male</td>\n",
       "      <td>...</td>\n",
       "      <td>0</td>\n",
       "      <td>0</td>\n",
       "      <td>0</td>\n",
       "      <td>0</td>\n",
       "      <td>0</td>\n",
       "      <td>0</td>\n",
       "      <td>0</td>\n",
       "      <td>0</td>\n",
       "      <td>0</td>\n",
       "      <td>0</td>\n",
       "    </tr>\n",
       "    <tr>\n",
       "      <th>677</th>\n",
       "      <td>18-Aug</td>\n",
       "      <td>Microsoft</td>\n",
       "      <td>Software Engineer</td>\n",
       "      <td>141000</td>\n",
       "      <td>Redmond, WA</td>\n",
       "      <td>1.0</td>\n",
       "      <td>1.0</td>\n",
       "      <td>118000</td>\n",
       "      <td>15000.0</td>\n",
       "      <td>Unknown</td>\n",
       "      <td>...</td>\n",
       "      <td>0</td>\n",
       "      <td>0</td>\n",
       "      <td>0</td>\n",
       "      <td>0</td>\n",
       "      <td>0</td>\n",
       "      <td>0</td>\n",
       "      <td>0</td>\n",
       "      <td>0</td>\n",
       "      <td>0</td>\n",
       "      <td>0</td>\n",
       "    </tr>\n",
       "    <tr>\n",
       "      <th>696</th>\n",
       "      <td>18-Aug</td>\n",
       "      <td>Amazon</td>\n",
       "      <td>Solution Architect</td>\n",
       "      <td>250000</td>\n",
       "      <td>Seattle, WA</td>\n",
       "      <td>15.0</td>\n",
       "      <td>2.0</td>\n",
       "      <td>0</td>\n",
       "      <td>0.0</td>\n",
       "      <td>Unknown</td>\n",
       "      <td>...</td>\n",
       "      <td>0</td>\n",
       "      <td>0</td>\n",
       "      <td>0</td>\n",
       "      <td>0</td>\n",
       "      <td>0</td>\n",
       "      <td>0</td>\n",
       "      <td>0</td>\n",
       "      <td>0</td>\n",
       "      <td>0</td>\n",
       "      <td>0</td>\n",
       "    </tr>\n",
       "    <tr>\n",
       "      <th>697</th>\n",
       "      <td>18-Aug</td>\n",
       "      <td>Amazon</td>\n",
       "      <td>Solution Architect</td>\n",
       "      <td>250000</td>\n",
       "      <td>Seattle, WA</td>\n",
       "      <td>15.0</td>\n",
       "      <td>2.0</td>\n",
       "      <td>0</td>\n",
       "      <td>0.0</td>\n",
       "      <td>Unknown</td>\n",
       "      <td>...</td>\n",
       "      <td>0</td>\n",
       "      <td>0</td>\n",
       "      <td>0</td>\n",
       "      <td>0</td>\n",
       "      <td>0</td>\n",
       "      <td>0</td>\n",
       "      <td>0</td>\n",
       "      <td>0</td>\n",
       "      <td>0</td>\n",
       "      <td>0</td>\n",
       "    </tr>\n",
       "    <tr>\n",
       "      <th>...</th>\n",
       "      <td>...</td>\n",
       "      <td>...</td>\n",
       "      <td>...</td>\n",
       "      <td>...</td>\n",
       "      <td>...</td>\n",
       "      <td>...</td>\n",
       "      <td>...</td>\n",
       "      <td>...</td>\n",
       "      <td>...</td>\n",
       "      <td>...</td>\n",
       "      <td>...</td>\n",
       "      <td>...</td>\n",
       "      <td>...</td>\n",
       "      <td>...</td>\n",
       "      <td>...</td>\n",
       "      <td>...</td>\n",
       "      <td>...</td>\n",
       "      <td>...</td>\n",
       "      <td>...</td>\n",
       "      <td>...</td>\n",
       "      <td>...</td>\n",
       "    </tr>\n",
       "    <tr>\n",
       "      <th>61739</th>\n",
       "      <td>21-Aug</td>\n",
       "      <td>HSBC</td>\n",
       "      <td>Software Engineer</td>\n",
       "      <td>159000</td>\n",
       "      <td>New York, NY</td>\n",
       "      <td>8.0</td>\n",
       "      <td>3.0</td>\n",
       "      <td>147000</td>\n",
       "      <td>12000.0</td>\n",
       "      <td>Male</td>\n",
       "      <td>...</td>\n",
       "      <td>1</td>\n",
       "      <td>0</td>\n",
       "      <td>0</td>\n",
       "      <td>0</td>\n",
       "      <td>0</td>\n",
       "      <td>0</td>\n",
       "      <td>0</td>\n",
       "      <td>0</td>\n",
       "      <td>0</td>\n",
       "      <td>1</td>\n",
       "    </tr>\n",
       "    <tr>\n",
       "      <th>61924</th>\n",
       "      <td>19-Jul</td>\n",
       "      <td>The Home Depot</td>\n",
       "      <td>Software Engineer</td>\n",
       "      <td>95000</td>\n",
       "      <td>Marietta, GA</td>\n",
       "      <td>1.0</td>\n",
       "      <td>1.0</td>\n",
       "      <td>95000</td>\n",
       "      <td>5000.0</td>\n",
       "      <td>Male</td>\n",
       "      <td>...</td>\n",
       "      <td>0</td>\n",
       "      <td>0</td>\n",
       "      <td>0</td>\n",
       "      <td>0</td>\n",
       "      <td>0</td>\n",
       "      <td>0</td>\n",
       "      <td>0</td>\n",
       "      <td>0</td>\n",
       "      <td>0</td>\n",
       "      <td>0</td>\n",
       "    </tr>\n",
       "    <tr>\n",
       "      <th>62193</th>\n",
       "      <td>18-Apr</td>\n",
       "      <td>Nordstrom</td>\n",
       "      <td>Product Manager</td>\n",
       "      <td>130000</td>\n",
       "      <td>Seattle, WA</td>\n",
       "      <td>5.0</td>\n",
       "      <td>1.0</td>\n",
       "      <td>113500</td>\n",
       "      <td>17000.0</td>\n",
       "      <td>Male</td>\n",
       "      <td>...</td>\n",
       "      <td>0</td>\n",
       "      <td>0</td>\n",
       "      <td>0</td>\n",
       "      <td>0</td>\n",
       "      <td>0</td>\n",
       "      <td>0</td>\n",
       "      <td>0</td>\n",
       "      <td>0</td>\n",
       "      <td>0</td>\n",
       "      <td>0</td>\n",
       "    </tr>\n",
       "    <tr>\n",
       "      <th>62240</th>\n",
       "      <td>19-Mar</td>\n",
       "      <td>IBM</td>\n",
       "      <td>Data Scientist</td>\n",
       "      <td>155000</td>\n",
       "      <td>Washington, DC</td>\n",
       "      <td>5.0</td>\n",
       "      <td>2.0</td>\n",
       "      <td>141000</td>\n",
       "      <td>14000.0</td>\n",
       "      <td>Male</td>\n",
       "      <td>...</td>\n",
       "      <td>0</td>\n",
       "      <td>0</td>\n",
       "      <td>0</td>\n",
       "      <td>0</td>\n",
       "      <td>0</td>\n",
       "      <td>0</td>\n",
       "      <td>0</td>\n",
       "      <td>0</td>\n",
       "      <td>0</td>\n",
       "      <td>0</td>\n",
       "    </tr>\n",
       "    <tr>\n",
       "      <th>62496</th>\n",
       "      <td>18-May</td>\n",
       "      <td>Cisco</td>\n",
       "      <td>Product Manager</td>\n",
       "      <td>250000</td>\n",
       "      <td>San Jose, CA</td>\n",
       "      <td>10.0</td>\n",
       "      <td>10.0</td>\n",
       "      <td>180000</td>\n",
       "      <td>40000.0</td>\n",
       "      <td>Male</td>\n",
       "      <td>...</td>\n",
       "      <td>0</td>\n",
       "      <td>0</td>\n",
       "      <td>0</td>\n",
       "      <td>0</td>\n",
       "      <td>0</td>\n",
       "      <td>0</td>\n",
       "      <td>0</td>\n",
       "      <td>0</td>\n",
       "      <td>0</td>\n",
       "      <td>0</td>\n",
       "    </tr>\n",
       "  </tbody>\n",
       "</table>\n",
       "<p>358 rows × 21 columns</p>\n",
       "</div>"
      ],
      "text/plain": [
       "         date         company               title  total_yearly_compensation  \\\n",
       "450    18-Jun          Intuit   Software Engineer                     422000   \n",
       "538    18-Jun         Workday   Software Engineer                     135000   \n",
       "677    18-Aug       Microsoft   Software Engineer                     141000   \n",
       "696    18-Aug          Amazon  Solution Architect                     250000   \n",
       "697    18-Aug          Amazon  Solution Architect                     250000   \n",
       "...       ...             ...                 ...                        ...   \n",
       "61739  21-Aug            HSBC   Software Engineer                     159000   \n",
       "61924  19-Jul  The Home Depot   Software Engineer                      95000   \n",
       "62193  18-Apr       Nordstrom     Product Manager                     130000   \n",
       "62240  19-Mar             IBM      Data Scientist                     155000   \n",
       "62496  18-May           Cisco     Product Manager                     250000   \n",
       "\n",
       "                location  years_of_experience  years_at_company  base_salary  \\\n",
       "450    Mountain View, CA                  6.0               3.0       203000   \n",
       "538       Pleasanton, CA                  2.0               2.0       113000   \n",
       "677          Redmond, WA                  1.0               1.0       118000   \n",
       "696          Seattle, WA                 15.0               2.0            0   \n",
       "697          Seattle, WA                 15.0               2.0            0   \n",
       "...                  ...                  ...               ...          ...   \n",
       "61739       New York, NY                  8.0               3.0       147000   \n",
       "61924       Marietta, GA                  1.0               1.0        95000   \n",
       "62193        Seattle, WA                  5.0               1.0       113500   \n",
       "62240     Washington, DC                  5.0               2.0       141000   \n",
       "62496       San Jose, CA                 10.0              10.0       180000   \n",
       "\n",
       "         bonus   gender  ... Masters_Degree  Bachelors_Degree  \\\n",
       "450    47000.0     Male  ...              0                 0   \n",
       "538     5000.0     Male  ...              0                 0   \n",
       "677    15000.0  Unknown  ...              0                 0   \n",
       "696        0.0  Unknown  ...              0                 0   \n",
       "697        0.0  Unknown  ...              0                 0   \n",
       "...        ...      ...  ...            ...               ...   \n",
       "61739  12000.0     Male  ...              1                 0   \n",
       "61924   5000.0     Male  ...              0                 0   \n",
       "62193  17000.0     Male  ...              0                 0   \n",
       "62240  14000.0     Male  ...              0                 0   \n",
       "62496  40000.0     Male  ...              0                 0   \n",
       "\n",
       "       Doctorate_Degree  High_School  Some_College  Race_Asian  Race_White  \\\n",
       "450                   0            0             0           0           0   \n",
       "538                   0            0             0           0           0   \n",
       "677                   0            0             0           0           0   \n",
       "696                   0            0             0           0           0   \n",
       "697                   0            0             0           0           0   \n",
       "...                 ...          ...           ...         ...         ...   \n",
       "61739                 0            0             0           0           0   \n",
       "61924                 0            0             0           0           0   \n",
       "62193                 0            0             0           0           0   \n",
       "62240                 0            0             0           0           0   \n",
       "62496                 0            0             0           0           0   \n",
       "\n",
       "       Race_Two_Or_More  Race_Black  Race_Hispanic  \n",
       "450                   0           0              0  \n",
       "538                   0           0              0  \n",
       "677                   0           0              0  \n",
       "696                   0           0              0  \n",
       "697                   0           0              0  \n",
       "...                 ...         ...            ...  \n",
       "61739                 0           0              1  \n",
       "61924                 0           0              0  \n",
       "62193                 0           0              0  \n",
       "62240                 0           0              0  \n",
       "62496                 0           0              0  \n",
       "\n",
       "[358 rows x 21 columns]"
      ]
     },
     "execution_count": 42,
     "metadata": {},
     "output_type": "execute_result"
    }
   ],
   "source": [
    "df_dups"
   ]
  },
  {
   "cell_type": "markdown",
   "id": "aac1eb7c",
   "metadata": {},
   "source": [
    "### There are 358 rows of duplicates. "
   ]
  },
  {
   "cell_type": "code",
   "execution_count": 43,
   "id": "dc4c64c7",
   "metadata": {},
   "outputs": [
    {
     "data": {
      "text/plain": [
       "(62642, 21)"
      ]
     },
     "execution_count": 43,
     "metadata": {},
     "output_type": "execute_result"
    }
   ],
   "source": [
    "# Removing the duplicates\n",
    "df_sal.shape"
   ]
  },
  {
   "cell_type": "code",
   "execution_count": 44,
   "id": "2b704876",
   "metadata": {},
   "outputs": [],
   "source": [
    "df_sal = df_sal.drop_duplicates()"
   ]
  },
  {
   "cell_type": "code",
   "execution_count": 45,
   "id": "a152ca30",
   "metadata": {},
   "outputs": [
    {
     "data": {
      "text/plain": [
       "(62284, 21)"
      ]
     },
     "execution_count": 45,
     "metadata": {},
     "output_type": "execute_result"
    }
   ],
   "source": [
    "df_sal.shape"
   ]
  },
  {
   "cell_type": "code",
   "execution_count": 46,
   "id": "561298f0",
   "metadata": {},
   "outputs": [
    {
     "data": {
      "text/plain": [
       "358"
      ]
     },
     "execution_count": 46,
     "metadata": {},
     "output_type": "execute_result"
    }
   ],
   "source": [
    "# Checking how many rows were removed\n",
    "62642 - 62284"
   ]
  },
  {
   "cell_type": "code",
   "execution_count": 47,
   "id": "509a5e6d",
   "metadata": {},
   "outputs": [],
   "source": [
    "# Checking for mixed type data\n",
    "for col in df_sal.columns.tolist():\n",
    "      weird = (df_sal[[col]].applymap(type) != df_sal[[col]].iloc[0].apply(type)).any(axis = 1)\n",
    "      if len (df_sal[weird]) > 0:\n",
    "        print (col)\n",
    "        "
   ]
  },
  {
   "cell_type": "markdown",
   "id": "04cfa308",
   "metadata": {},
   "source": [
    "### No mixed type columns found. "
   ]
  },
  {
   "cell_type": "code",
   "execution_count": 48,
   "id": "9275382d",
   "metadata": {},
   "outputs": [],
   "source": [
    "# Export cleaned datafile as csv \n",
    "df_sal.to_csv(r'/Users/melanie/Desktop/Data Science and STEM Salaries/Data/Levels_Fyi_Salary_Data_cleaned.csv', index = False)"
   ]
  },
  {
   "cell_type": "markdown",
   "id": "8de1ff45",
   "metadata": {},
   "source": [
    "# Analyzing and Visualizing the Data"
   ]
  },
  {
   "cell_type": "code",
   "execution_count": 49,
   "id": "7842e287",
   "metadata": {},
   "outputs": [
    {
     "data": {
      "text/plain": [
       "Text(0.5, 1.0, 'Average Yearly Compensation by Title')"
      ]
     },
     "execution_count": 49,
     "metadata": {},
     "output_type": "execute_result"
    },
    {
     "data": {
      "image/png": "[encoded data removed]",
      "text/plain": [
       "<Figure size 432x288 with 1 Axes>"
      ]
     },
     "metadata": {
      "needs_background": "light"
     },
     "output_type": "display_data"
    }
   ],
   "source": [
    "# Creating horizontal bar chart visualizing the avg yearly compensation per title\n",
    "job_title = df_sal[['company', 'title', 'total_yearly_compensation']].groupby(['title'])\\\n",
    "                                                                                .mean()\\\n",
    "                                                                                .round(2)\\\n",
    "                                                                                .sort_values('total_yearly_compensation',\n",
    "                                                                                             ascending = True)\n",
    "plt.barh(job_title.index, job_title.total_yearly_compensation)\n",
    "plt.ylabel('Title')\n",
    "plt.xlabel('Average Yearly Compensation')\n",
    "plt.title('Average Yearly Compensation by Title')"
   ]
  },
  {
   "cell_type": "markdown",
   "id": "1e6f932f",
   "metadata": {},
   "source": [
    "### Software engineering manager has the highest average annual compensation."
   ]
  },
  {
   "cell_type": "code",
   "execution_count": 50,
   "id": "4c8ac301",
   "metadata": {},
   "outputs": [
    {
     "data": {
      "text/plain": [
       "Amazon              8059\n",
       "Microsoft           5185\n",
       "Google              4305\n",
       "Facebook            2968\n",
       "Apple               2019\n",
       "                    ... \n",
       "S&P GLOBAL             1\n",
       "Bny Mellon             1\n",
       "Bloomberg lp           1\n",
       "Makemytrip             1\n",
       "tableau software       1\n",
       "Name: company, Length: 1632, dtype: int64"
      ]
     },
     "execution_count": 50,
     "metadata": {},
     "output_type": "execute_result"
    }
   ],
   "source": [
    "# Visualizing the highest paying companies\n",
    "df_sal.company.value_counts()"
   ]
  },
  {
   "cell_type": "code",
   "execution_count": 51,
   "id": "0791ae15",
   "metadata": {},
   "outputs": [
    {
     "data": {
      "text/plain": [
       "Text(0.5, 1.0, 'Top Ten Companies That Pay Highest Yearly Compensation')"
      ]
     },
     "execution_count": 51,
     "metadata": {},
     "output_type": "execute_result"
    },
    {
     "data": {
      "image/png": "[encoded data removed]",
      "text/plain": [
       "<Figure size 864x576 with 1 Axes>"
      ]
     },
     "metadata": {
      "needs_background": "light"
     },
     "output_type": "display_data"
    }
   ],
   "source": [
    "# Deciding to look at the top ten highest paying companies\n",
    "highest_paying_comp = df_sal[['company', 'title', 'total_yearly_compensation']].groupby(['company'])\\\n",
    "                                                                                .max()\\\n",
    "                                                                                .sort_values('total_yearly_compensation',\n",
    "                                                                                             ascending = False)\\\n",
    "                                                                                .head(10)\\\n",
    "                                                                                .sort_values('total_yearly_compensation', \n",
    "                                                                                            ascending = True)\\\n",
    "                                                                                .plot.barh(figsize = (12, 8), legend = False);\n",
    "plt.ylabel('Company')\n",
    "plt.xlabel('Compensation in Millions (US dollars)')\n",
    "plt.title('Top Ten Companies That Pay Highest Yearly Compensation')                                                                              "
   ]
  },
  {
   "cell_type": "markdown",
   "id": "48ef363a",
   "metadata": {},
   "source": [
    "### Facebook pays the highest yearly compensation, followed closely by Microsoft. "
   ]
  },
  {
   "cell_type": "code",
   "execution_count": 64,
   "id": "2b3d2957",
   "metadata": {},
   "outputs": [
    {
     "data": {
      "image/png": "[encoded data removed]",
      "text/plain": [
       "<Figure size 864x576 with 1 Axes>"
      ]
     },
     "metadata": {
      "needs_background": "light"
     },
     "output_type": "display_data"
    }
   ],
   "source": [
    "# Looking at the number of workers in each job title\n",
    "top_jobs = df_sal['title'].value_counts(ascending = True)\n",
    "top_jobs.plot.barh(figsize =(12,8))\n",
    "plt.title('Number of Workers per Job Title')\n",
    "plt.xlabel('Number of workers')\n",
    "plt.ylabel('Job Title')\n",
    "plt.show();"
   ]
  },
  {
   "cell_type": "markdown",
   "id": "e73009ae",
   "metadata": {},
   "source": [
    "### The most common job title by far is software engineer. "
   ]
  },
  {
   "cell_type": "code",
   "execution_count": 66,
   "id": "44993303",
   "metadata": {},
   "outputs": [
    {
     "data": {
      "image/png": "[encoded data removed]",
      "text/plain": [
       "<Figure size 864x576 with 1 Axes>"
      ]
     },
     "metadata": {
      "needs_background": "light"
     },
     "output_type": "display_data"
    }
   ],
   "source": [
    "# The top ten companies that have the highest number of employees\n",
    "tech_workers = df_sal['company'].value_counts(ascending = False).head(10).sort_values(ascending =\n",
    "                                                                                     True).plot.barh(figsize =(12,8))\n",
    "plt.title('Top Ten Companies with Highest Number of Employees')\n",
    "plt.xlabel('Number of Employees')\n",
    "plt.ylabel('Company')\n",
    "plt.show();"
   ]
  },
  {
   "cell_type": "markdown",
   "id": "d1f598b6",
   "metadata": {},
   "source": [
    "### Amazon has the highest number of employees. "
   ]
  },
  {
   "cell_type": "code",
   "execution_count": 82,
   "id": "95bdd817",
   "metadata": {},
   "outputs": [
    {
     "data": {
      "text/plain": [
       "array(['Unknown', 'Male', 'Female', 'Other',\n",
       "       'Title: Senior Software Engineer'], dtype=object)"
      ]
     },
     "execution_count": 82,
     "metadata": {},
     "output_type": "execute_result"
    }
   ],
   "source": [
    "# Do men or women earn higher salaries?\n",
    "df_sal['gender'].unique()"
   ]
  },
  {
   "cell_type": "code",
   "execution_count": 85,
   "id": "866a637c",
   "metadata": {},
   "outputs": [
    {
     "data": {
      "text/plain": [
       "array(['Unknown', 'Male', 'Female', 'Other'], dtype=object)"
      ]
     },
     "execution_count": 85,
     "metadata": {},
     "output_type": "execute_result"
    }
   ],
   "source": [
    "# Need to replace Senior Software Engineer with Unknown since it is not a gender type\n",
    "df_sal = df_sal.replace('Title: Senior Software Engineer', 'Unknown')\n",
    "df_sal['gender'].unique()"
   ]
  },
  {
   "cell_type": "code",
   "execution_count": 86,
   "id": "3c50b702",
   "metadata": {},
   "outputs": [
    {
     "data": {
      "image/png": "[encoded data removed]",
      "text/plain": [
       "<Figure size 864x576 with 1 Axes>"
      ]
     },
     "metadata": {
      "needs_background": "light"
     },
     "output_type": "display_data"
    }
   ],
   "source": [
    "# Compensation by gender\n",
    "gender_pay = df_sal[['total_yearly_compensation', 'gender']].groupby(['gender']).mean().round(2)\\\n",
    "                                                                    .sort_values('total_yearly_compensation', ascending = False)\\\n",
    "                                                                    .head(10)\\\n",
    "                                                                    .sort_values('total_yearly_compensation', ascending = True)\\\n",
    "                                                                    .plot.barh(figsize = (12,8), legend = False);\n",
    "\n",
    "plt.title('Compensation by Gender')\n",
    "plt.xlabel('Compensation (US Dollars)')\n",
    "plt.ylabel('Gender')\n",
    "plt.show();"
   ]
  },
  {
   "cell_type": "markdown",
   "id": "d0a82de3",
   "metadata": {},
   "source": [
    "### Males do make more money than females, but this could be due there being several \"unknown\" or \"other\" values that could change the analysis. "
   ]
  }
 ],
 "metadata": {
  "kernelspec": {
   "display_name": "Python 3 (ipykernel)",
   "language": "python",
   "name": "python3"
  },
  "language_info": {
   "codemirror_mode": {
    "name": "ipython",
    "version": 3
   },
   "file_extension": ".py",
   "mimetype": "text/x-python",
   "name": "python",
   "nbconvert_exporter": "python",
   "pygments_lexer": "ipython3",
   "version": "3.9.12"
  }
 },
 "nbformat": 4,
 "nbformat_minor": 5
}
