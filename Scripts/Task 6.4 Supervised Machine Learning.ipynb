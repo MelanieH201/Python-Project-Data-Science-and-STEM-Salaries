{
 "cells": [
  {
   "cell_type": "markdown",
   "id": "bd440124",
   "metadata": {},
   "source": [
    "# Task 6.4 Supervised Machine Learning"
   ]
  },
  {
   "cell_type": "markdown",
   "id": "739c0165",
   "metadata": {},
   "source": [
    "## Table of Contents\n",
    "\n",
    "### 1. Importing Libraries and Data\n",
    "\n",
    "### 2. Checking for Extreme Values\n",
    "\n",
    "### 3. Data Prep for Regression Analysis\n",
    "\n",
    "### 4. Regression Analysis"
   ]
  },
  {
   "cell_type": "markdown",
   "id": "54dbd697",
   "metadata": {},
   "source": [
    "### 1. Importing Libraries and Data"
   ]
  },
  {
   "cell_type": "code",
   "execution_count": 107,
   "id": "a47e9587",
   "metadata": {},
   "outputs": [],
   "source": [
    "# Import libraries\n",
    "import pandas as pd\n",
    "import numpy as np\n",
    "import seaborn as sns\n",
    "import matplotlib\n",
    "import matplotlib.pyplot as plt\n",
    "import os\n",
    "import sklearn\n",
    "from sklearn.model_selection import train_test_split\n",
    "from sklearn.linear_model import LinearRegression\n",
    "from sklearn.metrics import mean_squared_error, r2_score"
   ]
  },
  {
   "cell_type": "code",
   "execution_count": 49,
   "id": "b3001a3d",
   "metadata": {},
   "outputs": [],
   "source": [
    "# This option ensures that the graphs you create are displayed within the notebook without the need to \"call\" them specifically.\n",
    "\n",
    "%matplotlib inline"
   ]
  },
  {
   "cell_type": "code",
   "execution_count": 50,
   "id": "a66909b3",
   "metadata": {},
   "outputs": [],
   "source": [
    "# Import data\n",
    "df_sal = pd.read_csv(r'/Users/melanie/Desktop/Data Science and STEM Salaries/Data/Levels_Fyi_Salary_Data_cleaned4.csv')"
   ]
  },
  {
   "cell_type": "code",
   "execution_count": 51,
   "id": "7f6de5f8",
   "metadata": {},
   "outputs": [
    {
     "data": {
      "text/html": [
       "<div>\n",
       "<style scoped>\n",
       "    .dataframe tbody tr th:only-of-type {\n",
       "        vertical-align: middle;\n",
       "    }\n",
       "\n",
       "    .dataframe tbody tr th {\n",
       "        vertical-align: top;\n",
       "    }\n",
       "\n",
       "    .dataframe thead th {\n",
       "        text-align: right;\n",
       "    }\n",
       "</style>\n",
       "<table border=\"1\" class=\"dataframe\">\n",
       "  <thead>\n",
       "    <tr style=\"text-align: right;\">\n",
       "      <th></th>\n",
       "      <th>company</th>\n",
       "      <th>title</th>\n",
       "      <th>total_yearly_compensation</th>\n",
       "      <th>city</th>\n",
       "      <th>state</th>\n",
       "      <th>years_of_experience</th>\n",
       "      <th>years_at_company</th>\n",
       "      <th>base_salary</th>\n",
       "      <th>bonus</th>\n",
       "      <th>gender</th>\n",
       "      <th>city_id</th>\n",
       "      <th>Masters_Degree</th>\n",
       "      <th>Bachelors_Degree</th>\n",
       "      <th>Doctorate_Degree</th>\n",
       "      <th>High_School</th>\n",
       "      <th>Some_College</th>\n",
       "    </tr>\n",
       "  </thead>\n",
       "  <tbody>\n",
       "    <tr>\n",
       "      <th>0</th>\n",
       "      <td>Oracle</td>\n",
       "      <td>Product Manager</td>\n",
       "      <td>127000.0</td>\n",
       "      <td>Redwood City</td>\n",
       "      <td>California</td>\n",
       "      <td>1.5</td>\n",
       "      <td>1.5</td>\n",
       "      <td>107000.0</td>\n",
       "      <td>10000.0</td>\n",
       "      <td>Unknown</td>\n",
       "      <td>7392.0</td>\n",
       "      <td>0.0</td>\n",
       "      <td>0.0</td>\n",
       "      <td>0.0</td>\n",
       "      <td>0.0</td>\n",
       "      <td>0.0</td>\n",
       "    </tr>\n",
       "    <tr>\n",
       "      <th>1</th>\n",
       "      <td>eBay</td>\n",
       "      <td>Software Engineer</td>\n",
       "      <td>100000.0</td>\n",
       "      <td>San Francisco</td>\n",
       "      <td>California</td>\n",
       "      <td>5.0</td>\n",
       "      <td>3.0</td>\n",
       "      <td>0.0</td>\n",
       "      <td>0.0</td>\n",
       "      <td>Unknown</td>\n",
       "      <td>7419.0</td>\n",
       "      <td>0.0</td>\n",
       "      <td>0.0</td>\n",
       "      <td>0.0</td>\n",
       "      <td>0.0</td>\n",
       "      <td>0.0</td>\n",
       "    </tr>\n",
       "    <tr>\n",
       "      <th>2</th>\n",
       "      <td>Amazon</td>\n",
       "      <td>Product Manager</td>\n",
       "      <td>310000.0</td>\n",
       "      <td>Seattle</td>\n",
       "      <td>Washington</td>\n",
       "      <td>8.0</td>\n",
       "      <td>0.0</td>\n",
       "      <td>155000.0</td>\n",
       "      <td>0.0</td>\n",
       "      <td>Unknown</td>\n",
       "      <td>11527.0</td>\n",
       "      <td>0.0</td>\n",
       "      <td>0.0</td>\n",
       "      <td>0.0</td>\n",
       "      <td>0.0</td>\n",
       "      <td>0.0</td>\n",
       "    </tr>\n",
       "    <tr>\n",
       "      <th>3</th>\n",
       "      <td>Apple</td>\n",
       "      <td>Software Engineering Manager</td>\n",
       "      <td>372000.0</td>\n",
       "      <td>Sunnyvale</td>\n",
       "      <td>California</td>\n",
       "      <td>7.0</td>\n",
       "      <td>5.0</td>\n",
       "      <td>157000.0</td>\n",
       "      <td>35000.0</td>\n",
       "      <td>Unknown</td>\n",
       "      <td>7472.0</td>\n",
       "      <td>0.0</td>\n",
       "      <td>0.0</td>\n",
       "      <td>0.0</td>\n",
       "      <td>0.0</td>\n",
       "      <td>0.0</td>\n",
       "    </tr>\n",
       "    <tr>\n",
       "      <th>4</th>\n",
       "      <td>Microsoft</td>\n",
       "      <td>Software Engineer</td>\n",
       "      <td>157000.0</td>\n",
       "      <td>Mountain View</td>\n",
       "      <td>California</td>\n",
       "      <td>5.0</td>\n",
       "      <td>3.0</td>\n",
       "      <td>0.0</td>\n",
       "      <td>0.0</td>\n",
       "      <td>Unknown</td>\n",
       "      <td>7322.0</td>\n",
       "      <td>0.0</td>\n",
       "      <td>0.0</td>\n",
       "      <td>0.0</td>\n",
       "      <td>0.0</td>\n",
       "      <td>0.0</td>\n",
       "    </tr>\n",
       "  </tbody>\n",
       "</table>\n",
       "</div>"
      ],
      "text/plain": [
       "     company                         title  total_yearly_compensation  \\\n",
       "0     Oracle               Product Manager                   127000.0   \n",
       "1       eBay             Software Engineer                   100000.0   \n",
       "2     Amazon               Product Manager                   310000.0   \n",
       "3      Apple  Software Engineering Manager                   372000.0   \n",
       "4  Microsoft             Software Engineer                   157000.0   \n",
       "\n",
       "            city       state  years_of_experience  years_at_company  \\\n",
       "0   Redwood City  California                  1.5               1.5   \n",
       "1  San Francisco  California                  5.0               3.0   \n",
       "2        Seattle  Washington                  8.0               0.0   \n",
       "3      Sunnyvale  California                  7.0               5.0   \n",
       "4  Mountain View  California                  5.0               3.0   \n",
       "\n",
       "   base_salary    bonus   gender  city_id  Masters_Degree  Bachelors_Degree  \\\n",
       "0     107000.0  10000.0  Unknown   7392.0             0.0               0.0   \n",
       "1          0.0      0.0  Unknown   7419.0             0.0               0.0   \n",
       "2     155000.0      0.0  Unknown  11527.0             0.0               0.0   \n",
       "3     157000.0  35000.0  Unknown   7472.0             0.0               0.0   \n",
       "4          0.0      0.0  Unknown   7322.0             0.0               0.0   \n",
       "\n",
       "   Doctorate_Degree  High_School  Some_College  \n",
       "0               0.0          0.0           0.0  \n",
       "1               0.0          0.0           0.0  \n",
       "2               0.0          0.0           0.0  \n",
       "3               0.0          0.0           0.0  \n",
       "4               0.0          0.0           0.0  "
      ]
     },
     "execution_count": 51,
     "metadata": {},
     "output_type": "execute_result"
    }
   ],
   "source": [
    "df_sal.head()"
   ]
  },
  {
   "cell_type": "code",
   "execution_count": 52,
   "id": "febfc88b",
   "metadata": {},
   "outputs": [
    {
     "data": {
      "text/plain": [
       "company                      0\n",
       "title                        0\n",
       "total_yearly_compensation    0\n",
       "city                         0\n",
       "state                        0\n",
       "years_of_experience          0\n",
       "years_at_company             0\n",
       "base_salary                  0\n",
       "bonus                        0\n",
       "gender                       0\n",
       "city_id                      0\n",
       "Masters_Degree               0\n",
       "Bachelors_Degree             0\n",
       "Doctorate_Degree             0\n",
       "High_School                  0\n",
       "Some_College                 0\n",
       "dtype: int64"
      ]
     },
     "execution_count": 52,
     "metadata": {},
     "output_type": "execute_result"
    }
   ],
   "source": [
    "# Checking for missing values (this has been done in a previous task)\n",
    "df_sal.isnull().sum()"
   ]
  },
  {
   "cell_type": "markdown",
   "id": "941ea2e7",
   "metadata": {},
   "source": [
    "### 2. Checking for Extreme Values"
   ]
  },
  {
   "cell_type": "code",
   "execution_count": 53,
   "id": "1ab71542",
   "metadata": {},
   "outputs": [
    {
     "data": {
      "text/plain": [
       "<AxesSubplot:xlabel='total_yearly_compensation', ylabel='Count'>"
      ]
     },
     "execution_count": 53,
     "metadata": {},
     "output_type": "execute_result"
    },
    {
     "data": {
      "image/png": "[encoded data removed]",
      "text/plain": [
       "<Figure size 432x288 with 1 Axes>"
      ]
     },
     "metadata": {
      "needs_background": "light"
     },
     "output_type": "display_data"
    }
   ],
   "source": [
    "sns.histplot(df_sal['total_yearly_compensation'], bins=25, kde = True) "
   ]
  },
  {
   "cell_type": "code",
   "execution_count": 54,
   "id": "90060e61",
   "metadata": {},
   "outputs": [
    {
     "data": {
      "text/plain": [
       "<AxesSubplot:xlabel='base_salary', ylabel='Count'>"
      ]
     },
     "execution_count": 54,
     "metadata": {},
     "output_type": "execute_result"
    },
    {
     "data": {
      "image/png": "[encoded data removed]",
      "text/plain": [
       "<Figure size 432x288 with 1 Axes>"
      ]
     },
     "metadata": {
      "needs_background": "light"
     },
     "output_type": "display_data"
    }
   ],
   "source": [
    "sns.histplot(df_sal['base_salary'], bins=25, kde = True) "
   ]
  },
  {
   "cell_type": "code",
   "execution_count": 55,
   "id": "6860322d",
   "metadata": {},
   "outputs": [
    {
     "data": {
      "text/plain": [
       "<AxesSubplot:xlabel='years_of_experience', ylabel='Count'>"
      ]
     },
     "execution_count": 55,
     "metadata": {},
     "output_type": "execute_result"
    },
    {
     "data": {
      "image/png": "[encoded data removed]",
      "text/plain": [
       "<Figure size 432x288 with 1 Axes>"
      ]
     },
     "metadata": {
      "needs_background": "light"
     },
     "output_type": "display_data"
    }
   ],
   "source": [
    "sns.histplot(df_sal['years_of_experience'], bins=25, kde = True) "
   ]
  },
  {
   "cell_type": "code",
   "execution_count": 56,
   "id": "fef3bffc",
   "metadata": {},
   "outputs": [
    {
     "data": {
      "text/plain": [
       "<AxesSubplot:xlabel='years_at_company', ylabel='Count'>"
      ]
     },
     "execution_count": 56,
     "metadata": {},
     "output_type": "execute_result"
    },
    {
     "data": {
      "image/png": "[encoded data removed]",
      "text/plain": [
       "<Figure size 432x288 with 1 Axes>"
      ]
     },
     "metadata": {
      "needs_background": "light"
     },
     "output_type": "display_data"
    }
   ],
   "source": [
    "sns.histplot(df_sal['years_at_company'], bins=25, kde = True) "
   ]
  },
  {
   "cell_type": "markdown",
   "id": "d29eee6f",
   "metadata": {},
   "source": [
    " #### Some of the outliers may need to be removed, but let's try without having to do so. "
   ]
  },
  {
   "cell_type": "markdown",
   "id": "8edd96a2",
   "metadata": {},
   "source": [
    "### 3. Data Prep for Regression Analysis "
   ]
  },
  {
   "cell_type": "code",
   "execution_count": 82,
   "id": "d98e579d",
   "metadata": {},
   "outputs": [
    {
     "data": {
      "image/png": "[encoded data removed]",
      "text/plain": [
       "<Figure size 432x288 with 1 Axes>"
      ]
     },
     "metadata": {
      "needs_background": "light"
     },
     "output_type": "display_data"
    }
   ],
   "source": [
    "# Create a scatterplot using matplotlib for another look at how the chosen variables plot against each other.\n",
    "# 1. total_yearly_compensation vs years_at_company\n",
    "df_sal.plot(x = 'total_yearly_compensation', y ='years_at_company',style ='r+')\n",
    "plt.title('Compensation vs Years at Company')  \n",
    "plt.xlabel('total_yearly_compensation')  \n",
    "plt.ylabel('years_at_company')  \n",
    "plt.show()"
   ]
  },
  {
   "cell_type": "code",
   "execution_count": 83,
   "id": "8182b4c2",
   "metadata": {},
   "outputs": [
    {
     "data": {
      "image/png": "[encoded data removed]",
      "text/plain": [
       "<Figure size 432x288 with 1 Axes>"
      ]
     },
     "metadata": {
      "needs_background": "light"
     },
     "output_type": "display_data"
    }
   ],
   "source": [
    "# 2. total_yearly_compensation vs years_of_experience\n",
    "df_sal.plot(x = 'total_yearly_compensation', y ='years_of_experience',style ='r+')\n",
    "plt.title('Compensation vs Years of Experience')  \n",
    "plt.xlabel('total_yearly_compensation')  \n",
    "plt.ylabel('years_of_experience')  \n",
    "plt.show()"
   ]
  },
  {
   "cell_type": "code",
   "execution_count": 94,
   "id": "ce767650",
   "metadata": {},
   "outputs": [
    {
     "data": {
      "image/png": "[encoded data removed]",
      "text/plain": [
       "<Figure size 432x288 with 1 Axes>"
      ]
     },
     "metadata": {
      "needs_background": "light"
     },
     "output_type": "display_data"
    }
   ],
   "source": [
    "# 6. total_yearly_compensation vs Some_College\n",
    "df_sal.plot(x = 'total_yearly_compensation', y ='Some_College',style ='r+')\n",
    "plt.title('Compensation vs Those with Some College Education')  \n",
    "plt.xlabel('total_yearly_compensation')  \n",
    "plt.ylabel('Some_College')  \n",
    "plt.show()"
   ]
  },
  {
   "cell_type": "markdown",
   "id": "3069e55c",
   "metadata": {},
   "source": [
    "#### Hypothesis: The more years of experience you have, the better total compensation. "
   ]
  },
  {
   "cell_type": "code",
   "execution_count": 99,
   "id": "1faa8a46",
   "metadata": {},
   "outputs": [],
   "source": [
    "# Reshape the variables into NumPy arrays and put them into separate objects.\n",
    "\n",
    "X = df_sal['total_yearly_compensation'].values.reshape(-1,1)\n",
    "y = df_sal['years_of_experience'].values.reshape(-1,1)"
   ]
  },
  {
   "cell_type": "code",
   "execution_count": 100,
   "id": "29996024",
   "metadata": {},
   "outputs": [
    {
     "data": {
      "text/plain": [
       "array([[127000.],\n",
       "       [100000.],\n",
       "       [310000.],\n",
       "       ...,\n",
       "       [220000.],\n",
       "       [280000.],\n",
       "       [200000.]])"
      ]
     },
     "execution_count": 100,
     "metadata": {},
     "output_type": "execute_result"
    }
   ],
   "source": [
    "X"
   ]
  },
  {
   "cell_type": "code",
   "execution_count": 101,
   "id": "a49e0118",
   "metadata": {},
   "outputs": [
    {
     "data": {
      "text/plain": [
       "array([[ 1.5],\n",
       "       [ 5. ],\n",
       "       [ 8. ],\n",
       "       ...,\n",
       "       [14. ],\n",
       "       [ 8. ],\n",
       "       [ 0. ]])"
      ]
     },
     "execution_count": 101,
     "metadata": {},
     "output_type": "execute_result"
    }
   ],
   "source": [
    "y"
   ]
  },
  {
   "cell_type": "code",
   "execution_count": 102,
   "id": "0e4894de",
   "metadata": {},
   "outputs": [],
   "source": [
    "# Split data into a training set and a test set.\n",
    "\n",
    "X_train, X_test, y_train, y_test = train_test_split(X, y, test_size=0.3, random_state=0)"
   ]
  },
  {
   "cell_type": "markdown",
   "id": "e9b4fe17",
   "metadata": {},
   "source": [
    "### 4. Regression Analysis"
   ]
  },
  {
   "cell_type": "code",
   "execution_count": 108,
   "id": "50a8611b",
   "metadata": {},
   "outputs": [],
   "source": [
    "# Create a regression object.\n",
    "\n",
    "regression = LinearRegression()  # This is the regression object, which will be fit onto the training set."
   ]
  },
  {
   "cell_type": "code",
   "execution_count": 110,
   "id": "a785e2da",
   "metadata": {},
   "outputs": [
    {
     "data": {
      "text/plain": [
       "LinearRegression()"
      ]
     },
     "execution_count": 110,
     "metadata": {},
     "output_type": "execute_result"
    }
   ],
   "source": [
    "# Fit the regression object onto the training set.\n",
    "\n",
    "regression.fit(X_train, y_train)"
   ]
  },
  {
   "cell_type": "code",
   "execution_count": 111,
   "id": "c0247184",
   "metadata": {},
   "outputs": [],
   "source": [
    "# Predict the values of y using X.\n",
    "\n",
    "y_predicted = regression.predict(X_test)"
   ]
  },
  {
   "cell_type": "code",
   "execution_count": 112,
   "id": "4d867f94",
   "metadata": {},
   "outputs": [
    {
     "data": {
      "image/png": "[encoded data removed]",
      "text/plain": [
       "<Figure size 432x288 with 1 Axes>"
      ]
     },
     "metadata": {
      "needs_background": "light"
     },
     "output_type": "display_data"
    }
   ],
   "source": [
    "# Create a plot that shows the regression line from the model on the test set.\n",
    "\n",
    "plot_test = plt\n",
    "plot_test.scatter(X_test, y_test, color='blue', s = 15)\n",
    "plot_test.plot(X_test, y_predicted, color='red', linewidth =3)\n",
    "plot_test.title('Yearly Compensation vs Years of Experience (Test set)')\n",
    "plot_test.xlabel('tota_yearly_compensation')\n",
    "plot_test.ylabel('years_of_experience')\n",
    "plot_test.show()"
   ]
  },
  {
   "cell_type": "code",
   "execution_count": 113,
   "id": "ae032e08",
   "metadata": {},
   "outputs": [],
   "source": [
    "# Create objects that contain the model summary statistics.\n",
    "\n",
    "rmse = mean_squared_error(y_test, y_predicted) # This is the mean squared error\n",
    "r2 = r2_score(y_test, y_predicted) # This is the R2 score. "
   ]
  },
  {
   "cell_type": "code",
   "execution_count": 114,
   "id": "950e41df",
   "metadata": {},
   "outputs": [
    {
     "name": "stdout",
     "output_type": "stream",
     "text": [
      "Slope: [[1.97287086e-05]]\n",
      "Mean squared error:  29.27648444585413\n",
      "R2 score:  0.18514785350962293\n"
     ]
    }
   ],
   "source": [
    "# Print the model summary statistics. This is where you evaluate the performance of the model.\n",
    "\n",
    "print('Slope:' ,regression.coef_)\n",
    "print('Mean squared error: ', rmse)\n",
    "print('R2 score: ', r2)"
   ]
  },
  {
   "cell_type": "markdown",
   "id": "73d892ce",
   "metadata": {},
   "source": [
    "#### The slope indicates a positive relationship between the two variables, but the r2 value indicates a poor fit. "
   ]
  },
  {
   "cell_type": "code",
   "execution_count": 115,
   "id": "cc3e3427",
   "metadata": {},
   "outputs": [
    {
     "data": {
      "text/plain": [
       "array([[5.97859478],\n",
       "       [5.3472761 ],\n",
       "       [8.46441206],\n",
       "       ...,\n",
       "       [6.55072733],\n",
       "       [6.55072733],\n",
       "       [4.77514355]])"
      ]
     },
     "execution_count": 115,
     "metadata": {},
     "output_type": "execute_result"
    }
   ],
   "source": [
    "y_predicted"
   ]
  },
  {
   "cell_type": "code",
   "execution_count": 116,
   "id": "4f19392a",
   "metadata": {},
   "outputs": [
    {
     "data": {
      "text/html": [
       "<div>\n",
       "<style scoped>\n",
       "    .dataframe tbody tr th:only-of-type {\n",
       "        vertical-align: middle;\n",
       "    }\n",
       "\n",
       "    .dataframe tbody tr th {\n",
       "        vertical-align: top;\n",
       "    }\n",
       "\n",
       "    .dataframe thead th {\n",
       "        text-align: right;\n",
       "    }\n",
       "</style>\n",
       "<table border=\"1\" class=\"dataframe\">\n",
       "  <thead>\n",
       "    <tr style=\"text-align: right;\">\n",
       "      <th></th>\n",
       "      <th>Actual</th>\n",
       "      <th>Predicted</th>\n",
       "    </tr>\n",
       "  </thead>\n",
       "  <tbody>\n",
       "    <tr>\n",
       "      <th>0</th>\n",
       "      <td>2.0</td>\n",
       "      <td>5.978595</td>\n",
       "    </tr>\n",
       "    <tr>\n",
       "      <th>1</th>\n",
       "      <td>6.0</td>\n",
       "      <td>5.347276</td>\n",
       "    </tr>\n",
       "    <tr>\n",
       "      <th>2</th>\n",
       "      <td>6.0</td>\n",
       "      <td>8.464412</td>\n",
       "    </tr>\n",
       "    <tr>\n",
       "      <th>3</th>\n",
       "      <td>10.0</td>\n",
       "      <td>5.564292</td>\n",
       "    </tr>\n",
       "    <tr>\n",
       "      <th>4</th>\n",
       "      <td>6.0</td>\n",
       "      <td>7.399062</td>\n",
       "    </tr>\n",
       "    <tr>\n",
       "      <th>5</th>\n",
       "      <td>7.0</td>\n",
       "      <td>6.846658</td>\n",
       "    </tr>\n",
       "    <tr>\n",
       "      <th>6</th>\n",
       "      <td>5.0</td>\n",
       "      <td>6.452084</td>\n",
       "    </tr>\n",
       "    <tr>\n",
       "      <th>7</th>\n",
       "      <td>10.0</td>\n",
       "      <td>7.576620</td>\n",
       "    </tr>\n",
       "    <tr>\n",
       "      <th>8</th>\n",
       "      <td>7.0</td>\n",
       "      <td>5.307819</td>\n",
       "    </tr>\n",
       "    <tr>\n",
       "      <th>9</th>\n",
       "      <td>6.0</td>\n",
       "      <td>6.156153</td>\n",
       "    </tr>\n",
       "    <tr>\n",
       "      <th>10</th>\n",
       "      <td>2.0</td>\n",
       "      <td>7.043945</td>\n",
       "    </tr>\n",
       "    <tr>\n",
       "      <th>11</th>\n",
       "      <td>4.0</td>\n",
       "      <td>6.748014</td>\n",
       "    </tr>\n",
       "    <tr>\n",
       "      <th>12</th>\n",
       "      <td>4.0</td>\n",
       "      <td>5.130260</td>\n",
       "    </tr>\n",
       "    <tr>\n",
       "      <th>13</th>\n",
       "      <td>1.0</td>\n",
       "      <td>3.887352</td>\n",
       "    </tr>\n",
       "    <tr>\n",
       "      <th>14</th>\n",
       "      <td>5.0</td>\n",
       "      <td>5.682664</td>\n",
       "    </tr>\n",
       "    <tr>\n",
       "      <th>15</th>\n",
       "      <td>7.0</td>\n",
       "      <td>8.286854</td>\n",
       "    </tr>\n",
       "    <tr>\n",
       "      <th>16</th>\n",
       "      <td>1.0</td>\n",
       "      <td>6.077238</td>\n",
       "    </tr>\n",
       "    <tr>\n",
       "      <th>17</th>\n",
       "      <td>5.0</td>\n",
       "      <td>7.043945</td>\n",
       "    </tr>\n",
       "    <tr>\n",
       "      <th>18</th>\n",
       "      <td>0.0</td>\n",
       "      <td>6.432355</td>\n",
       "    </tr>\n",
       "    <tr>\n",
       "      <th>19</th>\n",
       "      <td>5.0</td>\n",
       "      <td>6.116696</td>\n",
       "    </tr>\n",
       "    <tr>\n",
       "      <th>20</th>\n",
       "      <td>15.0</td>\n",
       "      <td>6.905844</td>\n",
       "    </tr>\n",
       "    <tr>\n",
       "      <th>21</th>\n",
       "      <td>0.0</td>\n",
       "      <td>5.465648</td>\n",
       "    </tr>\n",
       "    <tr>\n",
       "      <th>22</th>\n",
       "      <td>20.0</td>\n",
       "      <td>8.918172</td>\n",
       "    </tr>\n",
       "    <tr>\n",
       "      <th>23</th>\n",
       "      <td>0.0</td>\n",
       "      <td>4.183282</td>\n",
       "    </tr>\n",
       "    <tr>\n",
       "      <th>24</th>\n",
       "      <td>8.0</td>\n",
       "      <td>8.760343</td>\n",
       "    </tr>\n",
       "    <tr>\n",
       "      <th>25</th>\n",
       "      <td>8.0</td>\n",
       "      <td>17.855277</td>\n",
       "    </tr>\n",
       "    <tr>\n",
       "      <th>26</th>\n",
       "      <td>13.0</td>\n",
       "      <td>8.424955</td>\n",
       "    </tr>\n",
       "    <tr>\n",
       "      <th>27</th>\n",
       "      <td>15.0</td>\n",
       "      <td>6.846658</td>\n",
       "    </tr>\n",
       "    <tr>\n",
       "      <th>28</th>\n",
       "      <td>5.0</td>\n",
       "      <td>5.367005</td>\n",
       "    </tr>\n",
       "    <tr>\n",
       "      <th>29</th>\n",
       "      <td>2.0</td>\n",
       "      <td>5.643207</td>\n",
       "    </tr>\n",
       "  </tbody>\n",
       "</table>\n",
       "</div>"
      ],
      "text/plain": [
       "    Actual  Predicted\n",
       "0      2.0   5.978595\n",
       "1      6.0   5.347276\n",
       "2      6.0   8.464412\n",
       "3     10.0   5.564292\n",
       "4      6.0   7.399062\n",
       "5      7.0   6.846658\n",
       "6      5.0   6.452084\n",
       "7     10.0   7.576620\n",
       "8      7.0   5.307819\n",
       "9      6.0   6.156153\n",
       "10     2.0   7.043945\n",
       "11     4.0   6.748014\n",
       "12     4.0   5.130260\n",
       "13     1.0   3.887352\n",
       "14     5.0   5.682664\n",
       "15     7.0   8.286854\n",
       "16     1.0   6.077238\n",
       "17     5.0   7.043945\n",
       "18     0.0   6.432355\n",
       "19     5.0   6.116696\n",
       "20    15.0   6.905844\n",
       "21     0.0   5.465648\n",
       "22    20.0   8.918172\n",
       "23     0.0   4.183282\n",
       "24     8.0   8.760343\n",
       "25     8.0  17.855277\n",
       "26    13.0   8.424955\n",
       "27    15.0   6.846658\n",
       "28     5.0   5.367005\n",
       "29     2.0   5.643207"
      ]
     },
     "execution_count": 116,
     "metadata": {},
     "output_type": "execute_result"
    }
   ],
   "source": [
    "# Create a dataframe comparing the actual and predicted values of y.\n",
    "\n",
    "data = pd.DataFrame({'Actual': y_test.flatten(), 'Predicted': y_predicted.flatten()})\n",
    "data.head(30)"
   ]
  },
  {
   "cell_type": "code",
   "execution_count": 117,
   "id": "0f933e39",
   "metadata": {},
   "outputs": [],
   "source": [
    "# Predict.\n",
    "\n",
    "y_predicted_train = regression.predict(X_train) # This is predicting X_train!"
   ]
  },
  {
   "cell_type": "code",
   "execution_count": 118,
   "id": "3ee0d1cb",
   "metadata": {},
   "outputs": [],
   "source": [
    "rmse = mean_squared_error(y_train, y_predicted_train)\n",
    "r2 = r2_score(y_train, y_predicted_train)"
   ]
  },
  {
   "cell_type": "code",
   "execution_count": 119,
   "id": "af3335e6",
   "metadata": {},
   "outputs": [
    {
     "name": "stdout",
     "output_type": "stream",
     "text": [
      "Slope: [[1.97287086e-05]]\n",
      "Mean squared error:  28.10770810679997\n",
      "R2 score:  0.20229901249479554\n"
     ]
    }
   ],
   "source": [
    "print('Slope:' ,regression.coef_)\n",
    "print('Mean squared error: ', rmse)\n",
    "print('R2 score: ', r2)"
   ]
  },
  {
   "cell_type": "code",
   "execution_count": 120,
   "id": "128c55ac",
   "metadata": {},
   "outputs": [
    {
     "data": {
      "image/png": "[encoded data removed]",
      "text/plain": [
       "<Figure size 432x288 with 1 Axes>"
      ]
     },
     "metadata": {
      "needs_background": "light"
     },
     "output_type": "display_data"
    }
   ],
   "source": [
    "# Visualizing the training set results.\n",
    "\n",
    "plot_test = plt\n",
    "plot_test.scatter(X_train, y_train, color='green', s = 15)\n",
    "plot_test.plot(X_train, y_predicted_train, color='red', linewidth =3)\n",
    "plot_test.title('Yearly Compensation vs Years of Experience(Test set)')\n",
    "plot_test.xlabel('total_yearly_compensation')\n",
    "plot_test.ylabel('years_of_experience')\n",
    "plot_test.show()"
   ]
  },
  {
   "cell_type": "markdown",
   "id": "8f4ba78b",
   "metadata": {},
   "source": [
    "#### This model is better than the first, as the r2 score is slightly higher, but it still indicates a poor fit. Removing the outliers may have helped some, but I don't think it would have changed this data enough to have a different outcome. "
   ]
  }
 ],
 "metadata": {
  "kernelspec": {
   "display_name": "Python 3 (ipykernel)",
   "language": "python",
   "name": "python3"
  },
  "language_info": {
   "codemirror_mode": {
    "name": "ipython",
    "version": 3
   },
   "file_extension": ".py",
   "mimetype": "text/x-python",
   "name": "python",
   "nbconvert_exporter": "python",
   "pygments_lexer": "ipython3",
   "version": "3.9.12"
  }
 },
 "nbformat": 4,
 "nbformat_minor": 5
}
